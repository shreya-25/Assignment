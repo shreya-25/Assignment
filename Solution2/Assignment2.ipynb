{
  "nbformat": 4,
  "nbformat_minor": 0,
  "metadata": {
    "colab": {
      "provenance": []
    },
    "kernelspec": {
      "name": "python3",
      "display_name": "Python 3"
    },
    "language_info": {
      "name": "python"
    }
  },
  "cells": [
    {
      "cell_type": "markdown",
      "source": [
        "**Python code to create a new SQLite database and load the tables**"
      ],
      "metadata": {
        "id": "zPd48-NxCcpl"
      }
    },
    {
      "cell_type": "code",
      "execution_count": null,
      "metadata": {
        "id": "iWPUlqyDkGco"
      },
      "outputs": [],
      "source": [
        "import pandas as pd\n",
        "import sqlite3"
      ]
    },
    {
      "cell_type": "code",
      "source": [
        "#importing data\n",
        "data_specifications = pd.read_excel('question_1_2.xlsx', sheet_name = \"Specifications\", header=0, skiprows = [0] )\n",
        "data_production_sequence = pd.read_excel('question_1_2.xlsx', sheet_name = \"Production_Sequence\", header=0, skiprows = [0] )\n",
        "data_measurements = pd.read_excel('question_1_2.xlsx', sheet_name = \"Measurements\", header=0, skiprows = [0] )"
      ],
      "metadata": {
        "id": "Cv6krWdhkTiC"
      },
      "execution_count": null,
      "outputs": []
    },
    {
      "cell_type": "code",
      "source": [
        "#Checking missing values in all the tables\n",
        "print(data_specifications.isnull().sum())\n",
        "print(data_production_sequence.isnull().sum())\n",
        "print(data_measurements.isnull().sum())"
      ],
      "metadata": {
        "colab": {
          "base_uri": "https://localhost:8080/"
        },
        "id": "nRZVwWho7ulV",
        "outputId": "7ec65990-a76f-47d2-fd9b-12a52249b33a"
      },
      "execution_count": 17,
      "outputs": [
        {
          "output_type": "stream",
          "name": "stdout",
          "text": [
            "Product_Code    0\n",
            "T_Name          0\n",
            "LSL             0\n",
            "USL             0\n",
            "Target          0\n",
            "dtype: int64\n",
            "Order_ID          0\n",
            "_Date             0\n",
            "Product_Family    0\n",
            "Variant           0\n",
            "dtype: int64\n",
            "Lot_No          0\n",
            "Unit_No         0\n",
            "Product_Code    0\n",
            "T_Height        0\n",
            "T_Weight        0\n",
            "dtype: int64\n"
          ]
        }
      ]
    },
    {
      "cell_type": "code",
      "source": [
        "#Removing the spaces from column names\n",
        "data_specifications.columns = data_specifications.columns.str.replace(' ', '_')\n",
        "data_production_sequence.columns = data_production_sequence.columns.str.replace(' ', '_')\n",
        "data_measurements.columns = data_measurements.columns.str.replace(' ', '_')\n"
      ],
      "metadata": {
        "id": "ZdQ4zDxPrGSL"
      },
      "execution_count": null,
      "outputs": []
    },
    {
      "cell_type": "code",
      "source": [
        "#Creating a connection to a SQLite database\n",
        "connection = sqlite3.connect('database.db')"
      ],
      "metadata": {
        "id": "5vBJUTvLkvT7"
      },
      "execution_count": null,
      "outputs": []
    },
    {
      "cell_type": "code",
      "source": [
        "#Converting dataframes into SQLite database tables\n",
        "data_specifications.to_sql('specifications_table', connection,if_exists='replace',index=False)\n",
        "data_production_sequence.to_sql('production_sequence_table', connection,if_exists='replace',index=False)\n",
        "data_measurements.to_sql('measurements_table', connection,if_exists='replace',index=False)"
      ],
      "metadata": {
        "id": "E0SFZjn4lJjT"
      },
      "execution_count": null,
      "outputs": []
    }
  ]
}